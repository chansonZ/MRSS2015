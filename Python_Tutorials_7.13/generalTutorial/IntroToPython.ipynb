{
 "cells": [
  {
   "cell_type": "markdown",
   "metadata": {},
   "source": [
    "# Introduction to Python\n",
    "\n",
    "This IPython notebook contains collection of samples to get you familiar with Python programming language and basic plotting."
   ]
  },
  {
   "cell_type": "code",
   "execution_count": 1,
   "metadata": {
    "collapsed": false
   },
   "outputs": [
    {
     "name": "stdout",
     "output_type": "stream",
     "text": [
      "Hello Python world!\n"
     ]
    }
   ],
   "source": [
    "print \"Hello Python world!\""
   ]
  },
  {
   "cell_type": "markdown",
   "metadata": {},
   "source": [
    "Python is simple to use, but it is a real programming language, offering much more structure and support for large programs than shell scripts or batch files can offer.Python is a *very-high-level language*, it has high-level data types built in, such as flexible arrays and dictionaries.  \n",
    "Python is an interpreted language, which can save you considerable time during program development because no compilation and linking is necessary. \n",
    "  \n",
    "Python enables programs to be written compactly and readably. Programs written in Python are typically much shorter than equivalent C, C++, or Java programs, for several reasons:\n",
    "* the high-level data types allow you to express complex operations in a single statement;\n",
    "* statement grouping is done by *indentation* instead of *beginning and ending brackets*;\n",
    "* no variable or argument declarations are necessary."
   ]
  },
  {
   "cell_type": "markdown",
   "metadata": {},
   "source": [
    "How to get help information:"
   ]
  },
  {
   "cell_type": "code",
   "execution_count": 2,
   "metadata": {
    "collapsed": false
   },
   "outputs": [
    {
     "name": "stdout",
     "output_type": "stream",
     "text": [
      "Help on built-in function len in module __builtin__:\n",
      "\n",
      "len(...)\n",
      "    len(object) -> integer\n",
      "    \n",
      "    Return the number of items of a sequence or collection.\n",
      "\n"
     ]
    }
   ],
   "source": [
    "help(len)"
   ]
  },
  {
   "cell_type": "code",
   "execution_count": 3,
   "metadata": {
    "collapsed": true
   },
   "outputs": [],
   "source": [
    "len?"
   ]
  },
  {
   "cell_type": "markdown",
   "metadata": {},
   "source": [
    "## Variables, Keywords and Strings\n",
    "\n",
    "**Variables** do not need explicit declaration or type definition. Just start use it and Python will interpret those dynamically."
   ]
  },
  {
   "cell_type": "code",
   "execution_count": 27,
   "metadata": {
    "collapsed": false
   },
   "outputs": [
    {
     "name": "stdout",
     "output_type": "stream",
     "text": [
      "5\n",
      "Now I'm a string\n"
     ]
    }
   ],
   "source": [
    "a = 5\n",
    "print a\n",
    "\n",
    "# now change type of variable a\n",
    "a = \"Now I'm a string\"\n",
    "print a"
   ]
  },
  {
   "cell_type": "markdown",
   "metadata": {},
   "source": [
    "Python has **keywords** that can not be used as variables (see full list [here](https://docs.python.org/2/reference/lexical_analysis.html#keywords)). Python is a dynamic language. It changes during time. The list of keywords may change in the future."
   ]
  },
  {
   "cell_type": "code",
   "execution_count": 28,
   "metadata": {
    "collapsed": false
   },
   "outputs": [
    {
     "name": "stdout",
     "output_type": "stream",
     "text": [
      "Python version:  sys.version_info(major=2, minor=7, micro=9, releaselevel='final', serial=0)\n",
      "Python keywords:  ['and', 'as', 'assert', 'break', 'class', 'continue', 'def', 'del', 'elif', 'else', 'except', 'exec', 'finally', 'for', 'from', 'global', 'if', 'import', 'in', 'is', 'lambda', 'not', 'or', 'pass', 'print', 'raise', 'return', 'try', 'while', 'with', 'yield']\n"
     ]
    }
   ],
   "source": [
    "import sys\n",
    "import keyword\n",
    "\n",
    "\n",
    "print \"Python version: \", sys.version_info\n",
    "print \"Python keywords: \", keyword.kwlist"
   ]
  },
  {
   "cell_type": "markdown",
   "metadata": {},
   "source": [
    "Let's take a look at several of keywords closer:  \n",
    "\n",
    "The **print** keyword is use to print numbers and characters to the console. \n",
    "In Python 3, print is not a keyword any more, it becomes a function."
   ]
  },
  {
   "cell_type": "code",
   "execution_count": 29,
   "metadata": {
    "collapsed": false
   },
   "outputs": [
    {
     "name": "stdout",
     "output_type": "stream",
     "text": [
      "************************\n"
     ]
    }
   ],
   "source": [
    "print \"*\" * 24"
   ]
  },
  {
   "cell_type": "markdown",
   "metadata": {},
   "source": [
    "For boolean operations use **'or,'and', 'not'** instead of ||, &&, !."
   ]
  },
  {
   "cell_type": "code",
   "execution_count": 30,
   "metadata": {
    "collapsed": false
   },
   "outputs": [
    {
     "name": "stdout",
     "output_type": "stream",
     "text": [
      "True\n",
      "False\n",
      "False\n"
     ]
    }
   ],
   "source": [
    "true_var = True\n",
    "false_var = False\n",
    "print true_var or false_var\n",
    "print true_var and false_var\n",
    "print not true_var"
   ]
  },
  {
   "cell_type": "markdown",
   "metadata": {},
   "source": [
    "The **def** keyword is used to create a new user defined function"
   ]
  },
  {
   "cell_type": "code",
   "execution_count": 31,
   "metadata": {
    "collapsed": false
   },
   "outputs": [
    {
     "name": "stdout",
     "output_type": "stream",
     "text": [
      "4 225\n"
     ]
    }
   ],
   "source": [
    "def root(x):\n",
    "   return x * x\n",
    "a = root(2)\n",
    "b = root(15)\n",
    "print a, b"
   ]
  },
  {
   "cell_type": "markdown",
   "metadata": {},
   "source": [
    "The **assert** keyword is used for debugging purposes. "
   ]
  },
  {
   "cell_type": "code",
   "execution_count": 6,
   "metadata": {
    "collapsed": false
   },
   "outputs": [],
   "source": [
    "salary = 3500\n",
    "salary -= 3560 # a mistake was done\n",
    "\n",
    "assert salary < 0"
   ]
  },
  {
   "cell_type": "markdown",
   "metadata": {},
   "source": [
    "**Strings** can be indexed (subscripted), with the first character having index 0. Indices may also be negative numbers (starting from -1), to start counting from the right."
   ]
  },
  {
   "cell_type": "code",
   "execution_count": 33,
   "metadata": {
    "collapsed": false
   },
   "outputs": [
    {
     "name": "stdout",
     "output_type": "stream",
     "text": [
      "First character: P\n",
      "Last character: n\n",
      "Last character with -1 index: n\n",
      "Second-last character: o\n"
     ]
    }
   ],
   "source": [
    "word = \"Python\"\n",
    "print \"First character: \" + word[0]\n",
    "print \"Last character: \" + word[5]\n",
    "\n",
    "# now let's use negative indexes\n",
    "print \"Last character with -1 index: \" + word[-1]\n",
    "print \"Second-last character: \" + word[-2]"
   ]
  },
  {
   "cell_type": "markdown",
   "metadata": {},
   "source": [
    "In addition to indexing, **slicing** is also supported. While indexing is used to obtain individual characters, slicing allows you to obtain a substring. Note that the start is always included, and the end always excluded. This makes sure that s[:i] + s[i:] is always equal to s:"
   ]
  },
  {
   "cell_type": "code",
   "execution_count": 34,
   "metadata": {
    "collapsed": false
   },
   "outputs": [
    {
     "name": "stdout",
     "output_type": "stream",
     "text": [
      "Characters from position 0 (included) to 2 (excluded): Py\n",
      "s[:i] + s[i:] is always equal to s: Python\n"
     ]
    }
   ],
   "source": [
    "print \"Characters from position 0 (included) to 2 (excluded): \" + word[0:2]\n",
    "print \"s[:i] + s[i:] is always equal to s: \" + word[:2] + word[2:] "
   ]
  },
  {
   "cell_type": "markdown",
   "metadata": {},
   "source": [
    "##  Compound statements\n",
    "Compound statements contain (groups of) other statements; they affect or control the execution of those other statements in some way. In general, compound statements span multiple lines, although in simple incarnations a whole compound statement may be contained in one line.\n",
    "\n",
    "The **if, while** and **for** statements implement traditional control flow constructs. **try** specifies exception handlers and/or cleanup code for a group of statements. Function and class definitions are also syntactically compound statements."
   ]
  },
  {
   "cell_type": "markdown",
   "metadata": {},
   "source": [
    "Here is example for **if\\else\\elif**.  \n",
    "Note: there is **\":\"** after the confition -- omitting the \":\" is my most common syntax mistake when typing in the above sort of code, probably since that's an additional thing to type vs. my C++/Java habits. Also, don't put the boolean test in parens -- that's a C/Java habit. If the code is short, you can put the code on the same line after \":\", like this (this applies to functions, loops, etc. also), although some people feel it's more readable to space things out on separate lines."
   ]
  },
  {
   "cell_type": "code",
   "execution_count": 35,
   "metadata": {
    "collapsed": false
   },
   "outputs": [
    {
     "name": "stdout",
     "output_type": "stream",
     "text": [
      "License and registration please.\n",
      "I'm going to have to write you a ticket.\n"
     ]
    }
   ],
   "source": [
    "speed = 81\n",
    "mood = 'bad'\n",
    "if speed >= 80:\n",
    "    print 'License and registration please.'\n",
    "    if mood == 'terrible' or speed >= 100:\n",
    "      print 'You have the right to remain silent.'\n",
    "    elif mood == 'bad' or speed >= 90:\n",
    "      print \"I'm going to have to write you a ticket.\"     \n",
    "    else:\n",
    "      print \"Let's try to keep it under 80 ok?\""
   ]
  },
  {
   "cell_type": "markdown",
   "metadata": {},
   "source": [
    "Here is **while** loop example:"
   ]
  },
  {
   "cell_type": "code",
   "execution_count": 36,
   "metadata": {
    "collapsed": false
   },
   "outputs": [
    {
     "name": "stdout",
     "output_type": "stream",
     "text": [
      "You are still playing, because your power is 5.\n",
      "wanna break now: y or n?\n",
      "y\n",
      "here is your break!\n"
     ]
    }
   ],
   "source": [
    "# The player's power starts out at 5.\n",
    "power = 5\n",
    "\n",
    "# The player is allowed to keep playing as long as their power is over 0.\n",
    "while power > 0:\n",
    "    print(\"You are still playing, because your power is %d.\" % power)   \n",
    "    print \"wanna break now: y or n?\"\n",
    "    isBreak = raw_input() # If you're using Python 3, you have to use input() function to get user's input\n",
    "    if isBreak == 'y':\n",
    "        print \"here is your break!\"\n",
    "        break;\n",
    "    power = power - 1\n",
    "\n",
    "if power == 0:\n",
    "  print(\"\\nOh no, your power dropped to 0! Game Over.\")"
   ]
  },
  {
   "cell_type": "markdown",
   "metadata": {},
   "source": [
    "**Try-catch** example:"
   ]
  },
  {
   "cell_type": "code",
   "execution_count": 37,
   "metadata": {
    "collapsed": false
   },
   "outputs": [
    {
     "name": "stdout",
     "output_type": "stream",
     "text": [
      "Error: can't find file or read data\n"
     ]
    }
   ],
   "source": [
    "try:\n",
    "   fh = open(\"testfile\", \"r\")\n",
    "   fh.write(\"This is my test file for exception handling!!\")\n",
    "except IOError:\n",
    "   print \"Error: can\\'t find file or read data\"\n",
    "else:\n",
    "   print \"Written content in the file successfully\"\n",
    "   fh.close()"
   ]
  },
  {
   "cell_type": "markdown",
   "metadata": {},
   "source": [
    "## Lists and Tuples\n",
    "In Python, square brackets designate a **list**. See below samples of list usage."
   ]
  },
  {
   "cell_type": "code",
   "execution_count": 38,
   "metadata": {
    "collapsed": false
   },
   "outputs": [
    {
     "name": "stdout",
     "output_type": "stream",
     "text": [
      "I like australian cattle dogs.\n",
      "I like border collies.\n",
      "I like german shepherds.\n",
      "I like labrador retrievers.\n",
      "1\n"
     ]
    }
   ],
   "source": [
    "dogs = ['border collie', 'australian cattle dog', 'labrador retriever', 'german shepherd']\n",
    "\n",
    "# sort\n",
    "dogs.sort()\n",
    "\n",
    "# loop through the list\n",
    "for dog in dogs:\n",
    "    print('I like ' + dog + 's.')\n",
    "    \n",
    "# find element\n",
    "print dogs.index('border collie')\n",
    "\n",
    "# print \"Note: This method returns a ValueError if the requested item is not in the list: \" dogs.index('poodle')"
   ]
  },
  {
   "cell_type": "code",
   "execution_count": 39,
   "metadata": {
    "collapsed": false
   },
   "outputs": [
    {
     "name": "stdout",
     "output_type": "stream",
     "text": [
      "current list length is:  9\n",
      "After we added:  ['australian cattle dog', 'border collie', 'german shepherd', 'boxer', 'labrador retriever', 'poodle', 'hound', 'setter', 'pointer']\n"
     ]
    }
   ],
   "source": [
    "\n",
    "# append\n",
    "dogs.append(\"poodle\");\n",
    "\n",
    "# insert\n",
    "dogs.insert(3, \"boxer\")\n",
    "\n",
    "# join 2 lists\n",
    "hunting_dogs = ['hound', 'setter', 'pointer']\n",
    "dogs += hunting_dogs\n",
    "\n",
    "# length of list\n",
    "print \"current list length is: \", len(dogs)\n",
    "\n",
    "print \"After we added: \",dogs"
   ]
  },
  {
   "cell_type": "code",
   "execution_count": 40,
   "metadata": {
    "collapsed": false
   },
   "outputs": [
    {
     "name": "stdout",
     "output_type": "stream",
     "text": [
      "I like australian cattle dogs the most.\n",
      "I like border collies the most.\n"
     ]
    }
   ],
   "source": [
    "# slicing\n",
    "first_batch = dogs[0:2]\n",
    "for dog in first_batch:\n",
    "    print('I like ' + dog + 's the most.')"
   ]
  },
  {
   "cell_type": "code",
   "execution_count": 41,
   "metadata": {
    "collapsed": false
   },
   "outputs": [
    {
     "name": "stdout",
     "output_type": "stream",
     "text": [
      "before deletion: ['australian cattle dog', 'border collie', 'german shepherd', 'boxer', 'labrador retriever', 'poodle', 'hound', 'setter', 'pointer']\n",
      "['australian cattle dog', 'border collie', 'german shepherd', 'labrador retriever', 'poodle', 'hound', 'setter', 'pointer']\n",
      "['border collie', 'german shepherd', 'labrador retriever', 'poodle', 'hound', 'setter', 'pointer']\n"
     ]
    }
   ],
   "source": [
    "   \n",
    "# removing by position and by value\n",
    "print \"before deletion:\", dogs\n",
    "del dogs[3]\n",
    "print dogs\n",
    "dogs.remove('australian cattle dog')\n",
    "print dogs"
   ]
  },
  {
   "cell_type": "markdown",
   "metadata": {},
   "source": [
    "Lists are a workhorse data type in Python, and many programs manipulate a list at some point. Two common operations on lists are to loop over them, and either pick out the elements that meet a certain criterion, or apply some function to each element.**List comprehensions** make this workflow cleaner."
   ]
  },
  {
   "cell_type": "code",
   "execution_count": 42,
   "metadata": {
    "collapsed": false
   },
   "outputs": [
    {
     "name": "stdout",
     "output_type": "stream",
     "text": [
      "1\n",
      "4\n",
      "9\n",
      "16\n",
      "25\n",
      "36\n",
      "49\n",
      "64\n",
      "81\n",
      "100\n",
      "Hello, Bernice the great!\n",
      "Hello, Aaron the great!\n",
      "Hello, Cody the great!\n"
     ]
    }
   ],
   "source": [
    "# Store the first ten square numbers in a list.\n",
    "squares = [number**2 for number in range(1,11)]\n",
    "# Show that our list is correct.\n",
    "for square in squares:\n",
    "    print(square)\n",
    "    \n",
    "# We can use comprehensions with non-numerical lists as well.\n",
    "# Consider some students.\n",
    "students = ['bernice', 'aaron', 'cody']\n",
    "# Let's turn them into great students.\n",
    "great_students = [student.title() + \" the great!\" for student in students]\n",
    "# Let's greet each great student.\n",
    "for great_student in great_students:\n",
    "    print(\"Hello, \" + great_student)"
   ]
  },
  {
   "cell_type": "markdown",
   "metadata": {
    "collapsed": true
   },
   "source": [
    "You define a **tuple** just like you define a list, except you use parentheses instead of square brackets. Once you have a tuple, you can access individual elements just like you can with a list, and you can loop through the tuple with a for loop. You can not add or remove items from the tuple."
   ]
  },
  {
   "cell_type": "code",
   "execution_count": 43,
   "metadata": {
    "collapsed": false
   },
   "outputs": [
    {
     "name": "stdout",
     "output_type": "stream",
     "text": [
      "The first color is: red\n"
     ]
    }
   ],
   "source": [
    "colors = ('red', 'green', 'blue')\n",
    "print(\"The first color is: \" + colors[0])\n",
    "# colors.append('purple')"
   ]
  },
  {
   "cell_type": "markdown",
   "metadata": {},
   "source": [
    "## Functions\n",
    "Here is example code of a function definition:"
   ]
  },
  {
   "cell_type": "code",
   "execution_count": 44,
   "metadata": {
    "collapsed": false
   },
   "outputs": [
    {
     "name": "stdout",
     "output_type": "stream",
     "text": [
      "\n",
      "You are doing good work, Adriana!\n",
      "Thank you very much for your efforts on this project.\n",
      "\n",
      "You are doing good work, everyone!\n",
      "Thank you very much for your efforts on this project.\n"
     ]
    }
   ],
   "source": [
    "def thank_you(name='everyone'):\n",
    "    # This function prints a two-line personalized thank you message.\n",
    "    #  If no name is passed in, it prints a general thank you message\n",
    "    #  to everyone.\n",
    "    print(\"\\nYou are doing good work, %s!\" % name)\n",
    "    print(\"Thank you very much for your efforts on this project.\")\n",
    "    \n",
    "thank_you('Adriana')\n",
    "thank_you()"
   ]
  },
  {
   "cell_type": "markdown",
   "metadata": {},
   "source": [
    "Python allows us to use a syntax called **keyword arguments**. In this case, we can give the arguments in any order when we call the function, as long as we use the name of the arguments in our calling statement."
   ]
  },
  {
   "cell_type": "code",
   "execution_count": 45,
   "metadata": {
    "collapsed": false
   },
   "outputs": [
    {
     "name": "stdout",
     "output_type": "stream",
     "text": [
      "First name: Brian\n",
      "Last name: Kernighan\n",
      "Favourite language: C\n",
      "\n",
      "\n",
      "First name: Dennis\n",
      "Last name: Ritchie\n",
      "Favourite language: C\n",
      "Died: 2011\n",
      "\n",
      "\n"
     ]
    }
   ],
   "source": [
    "def describe_person(first_name, last_name, age=None, favorite_language=None, died=None):\n",
    "    # This function takes in a person's first and last name,\n",
    "    #  their age, and their favourite language.\n",
    "    # It then prints this information out in a simple format.\n",
    "    \n",
    "    # Required information:\n",
    "    print(\"First name: %s\" % first_name.title())\n",
    "    print(\"Last name: %s\" % last_name.title())\n",
    "    \n",
    "    # Optional information:\n",
    "    if age:\n",
    "        print(\"Age: %d\" % age)\n",
    "    if favorite_language:\n",
    "        print(\"Favourite language: %s\" % favorite_language)\n",
    "    if died:\n",
    "        print(\"Died: %d\" % died)\n",
    "    \n",
    "    # Blank line at end.\n",
    "    print(\"\\n\")\n",
    "\n",
    "describe_person('brian', 'kernighan', favorite_language='C')\n",
    "describe_person('dennis', 'ritchie', favorite_language='C', died=2011)"
   ]
  },
  {
   "cell_type": "markdown",
   "metadata": {},
   "source": [
    "Python gives us a syntax for letting a function accept an **arbitrary number of arguments**. If we place an argument at the end of the list of arguments, with an asterisk in front of it, that argument will collect any remaining values from the calling statement into a tuple:"
   ]
  },
  {
   "cell_type": "code",
   "execution_count": 46,
   "metadata": {
    "collapsed": false
   },
   "outputs": [
    {
     "name": "stdout",
     "output_type": "stream",
     "text": [
      "\n",
      "arg_1: 1\n",
      "arg_2: 2\n",
      "arg_3: ()\n",
      "\n",
      "arg_1: 1\n",
      "arg_2: 2\n",
      "arg_3: (3,)\n",
      "\n",
      "arg_1: 1\n",
      "arg_2: 2\n",
      "arg_3: (3, 4, 5)\n"
     ]
    }
   ],
   "source": [
    "def example_function(arg_1, arg_2, *arg_3):\n",
    "    # Let's look at the argument values.\n",
    "    print \"\\narg_1:\", arg_1\n",
    "    print \"arg_2:\", arg_2\n",
    "    print \"arg_3:\", arg_3\n",
    "    \n",
    "example_function(1, 2)\n",
    "example_function(1, 2, 3)\n",
    "example_function(1, 2, 3, 4, 5)"
   ]
  },
  {
   "cell_type": "markdown",
   "metadata": {},
   "source": [
    "## Dictionaries\n",
    "A general dictionary in Python looks something like this:  \n",
    "    *dictionary_name = {key_1: value_1, key_2: value_2, key_3: value_3}*"
   ]
  },
  {
   "cell_type": "code",
   "execution_count": 47,
   "metadata": {
    "collapsed": false
   },
   "outputs": [
    {
     "name": "stdout",
     "output_type": "stream",
     "text": [
      "Eric's favourite numbers are:\n",
      "[3, 11, 19, 23, 42]\n",
      "Value: [5, 35, 120]\n",
      "Value: [2, 4, 5]\n",
      "Value: [3, 11, 19, 23, 42]\n",
      "{'willie': [5, 35, 120], 'ever': [2, 4, 5]}\n"
     ]
    }
   ],
   "source": [
    "# stores people's favourite numbers, and displays them.\n",
    "favorite_numbers = {'eric': [3, 11, 19, 23, 42],\n",
    "                    'ever': [2, 4, 5],\n",
    "                    'willie': [5, 35, 120],\n",
    "                    }\n",
    "\n",
    "# display each person's favourite numbers.\n",
    "print(\"Eric's favourite numbers are:\")\n",
    "print(favorite_numbers['eric'])\n",
    "\n",
    "# loop through values\n",
    "for value in favorite_numbers.values():\n",
    "    print('Value: %s' % value)\n",
    "\n",
    "# delete entry\n",
    "del favorite_numbers[\"eric\"]\n",
    "print favorite_numbers\n"
   ]
  },
  {
   "cell_type": "markdown",
   "metadata": {},
   "source": [
    "## Classes\n",
    "When you write a class in Python 2.7, you should always include the word object in parentheses when you define the class. This makes sure your Python 2.7 classes act like Python 3 classes, which will be helpful as your projects grow more complicated."
   ]
  },
  {
   "cell_type": "code",
   "execution_count": 48,
   "metadata": {
    "collapsed": false
   },
   "outputs": [
    {
     "name": "stdout",
     "output_type": "stream",
     "text": [
      "0 0\n",
      "0 1\n",
      "<__main__.Rocket object at 0x0000000003A6E208>\n",
      "<__main__.Rocket object at 0x0000000003A6E160>\n",
      "<__main__.Rocket object at 0x0000000003A6E240>\n",
      "<__main__.Rocket object at 0x0000000003A6E278>\n",
      "<__main__.Rocket object at 0x0000000003A6E2B0>\n"
     ]
    }
   ],
   "source": [
    "class Rocket(object):\n",
    "    # Rocket simulates a rocket ship for a game,\n",
    "    #  or a physics simulation.\n",
    "    \n",
    "    def __init__(self):\n",
    "        # Each rocket has an (x,y) position.\n",
    "        self.x = 0\n",
    "        self.y = 0\n",
    "        \n",
    "    def move_up(self):\n",
    "        # Increment the y-position of the rocket.\n",
    "        self.y += 1            \n",
    "        \n",
    "# Create a Rocket object.\n",
    "my_rocket = Rocket()\n",
    "print my_rocket.x, my_rocket.y\n",
    "my_rocket.move_up()\n",
    "print my_rocket.x, my_rocket.y\n",
    "\n",
    "# Create a fleet of 5 rockets, and store them in a list.\n",
    "my_rockets = [Rocket() for x in range(0,5)]\n",
    "# Show that each rocket is a separate object.\n",
    "for rocket in my_rockets:\n",
    "    print rocket"
   ]
  },
  {
   "cell_type": "markdown",
   "metadata": {},
   "source": [
    "In Python and any other language that supports OOP, one class can inherit from another class:"
   ]
  },
  {
   "cell_type": "code",
   "execution_count": 49,
   "metadata": {
    "collapsed": false
   },
   "outputs": [
    {
     "name": "stdout",
     "output_type": "stream",
     "text": [
      "0 0 3\n"
     ]
    }
   ],
   "source": [
    "class Shuttle(Rocket):\n",
    "    # Shuttle simulates a space shuttle, which is really\n",
    "    #  just a reusable rocket.\n",
    "    \n",
    "    def __init__(self, flights_completed=0):\n",
    "        super(Shuttle, self).__init__()\n",
    "        self.flights_completed = flights_completed\n",
    "        \n",
    "shuttle = Shuttle(3)\n",
    "print shuttle.x, shuttle.y, shuttle.flights_completed"
   ]
  },
  {
   "cell_type": "markdown",
   "metadata": {},
   "source": [
    "## NumPy Arrays\n",
    "NumPy is the fundamental package for scientific computing with Python. Its powerful N-dimensional array object  is used quite a bit in Machine Learning, so let's take close look at this NumPy part.  \n",
    "First let's check that NumPy is installed:"
   ]
  },
  {
   "cell_type": "code",
   "execution_count": 50,
   "metadata": {
    "collapsed": false
   },
   "outputs": [
    {
     "name": "stdout",
     "output_type": "stream",
     "text": [
      "numpy: 1.9.2\n"
     ]
    }
   ],
   "source": [
    "import numpy as np\n",
    "print 'numpy:', np.__version__"
   ]
  },
  {
   "cell_type": "markdown",
   "metadata": {},
   "source": [
    "NumPy's main object is the homogeneous multidimensional array (called **ndarray**). It is a table of elements (usually numbers), all of the same type, indexed by a tuple of positive integers. In Numpy dimensions are called axes. The number of axes is rank.\n",
    "For example, the coordinates of a point in 3D space [1, 2, 1] is an array of rank 1, because it has one axis. That axis has a length of 3.  \n",
    "In example below, the array has rank 2 (it is 2-dimensional). The first dimension (axis) has a length of 2, the second dimension has a length of 3.  "
   ]
  },
  {
   "cell_type": "code",
   "execution_count": 51,
   "metadata": {
    "collapsed": false
   },
   "outputs": [
    {
     "name": "stdout",
     "output_type": "stream",
     "text": [
      "[[ 1.5  2.   3. ]\n",
      " [ 4.   5.   6. ]]\n"
     ]
    }
   ],
   "source": [
    "b = np.array([ [1.5,2,3], [4,5,6] ])\n",
    "print b"
   ]
  },
  {
   "cell_type": "markdown",
   "metadata": {},
   "source": [
    "There are several important differences between NumPy arrays and the standard Python sequences:  \n",
    "*  NumPy arrays have a fixed size at creation, unlike Python lists (which can grow dynamically). Changing the size of an ndarray will create a new array and delete the original.\n",
    "*  The elements in a NumPy array are all required to be of the same data type, and thus will be the same size in memory. The exception: one can have arrays of (Python, including NumPy) objects, thereby allowing for arrays of different sized elements.\n",
    "*  NumPy arrays *facilitate advanced mathematical and other types of operations on large numbers of data*. Typically, such operations are executed more efficiently and with less code than is possible using Python’s built-in sequences.\n",
    "*  A growing plethora of scientific and mathematical Python-based packages are using NumPy arrays; though these typically support Python-sequence input, they convert such input to NumPy arrays prior to processing, and they often output NumPy arrays. In other words, in order to efficiently use much (perhaps even most) of today’s scientific/mathematical Python-based software, just knowing how to use Python’s built-in sequence types is insufficient - one also needs to know how to use NumPy arrays."
   ]
  },
  {
   "cell_type": "code",
   "execution_count": 52,
   "metadata": {
    "collapsed": false
   },
   "outputs": [
    {
     "name": "stdout",
     "output_type": "stream",
     "text": [
      "[[ 0.46637225  0.6892184   0.90651659  0.54420015  0.73121548]\n",
      " [ 0.25287213  0.25427193  0.10423979  0.0978681   0.88390065]\n",
      " [ 0.54854288  0.43474524  0.5240193   0.61673612  0.16307901]]\n",
      "dimensions: (3L, 5L)\n",
      "number of axes (dimensions): 2\n",
      "total number of elements: 15\n",
      "type of elements:  float64\n"
     ]
    }
   ],
   "source": [
    "# make sure you have imported NumPy, if not -- uncomment line below\n",
    "# import numpy as np\n",
    "\n",
    "# Generating a random array\n",
    "X = np.random.random((3, 5))  # a 3 x 5 array\n",
    "print X\n",
    "\n",
    "# get dimension and size info\n",
    "print \"dimensions:\", X.shape\n",
    "print \"number of axes (dimensions):\", X.ndim\n",
    "print \"total number of elements:\", X.size\n",
    "print \"type of elements: \", X.dtype"
   ]
  },
  {
   "cell_type": "code",
   "execution_count": 53,
   "metadata": {
    "collapsed": false
   },
   "outputs": [
    {
     "name": "stdout",
     "output_type": "stream",
     "text": [
      "dimensions: (3L, 5L)\n"
     ]
    }
   ],
   "source": [
    "print \"dimensions:\", X.shape"
   ]
  },
  {
   "cell_type": "code",
   "execution_count": 54,
   "metadata": {
    "collapsed": false
   },
   "outputs": [
    {
     "name": "stdout",
     "output_type": "stream",
     "text": [
      "0.466372246625\n",
      "[ 0.25287213  0.25427193  0.10423979  0.0978681   0.88390065]\n",
      "[ 0.6892184   0.25427193  0.43474524]\n"
     ]
    }
   ],
   "source": [
    "# Accessing elements\n",
    "\n",
    "# get a single element\n",
    "print X[0, 0]\n",
    "\n",
    "# get a row\n",
    "print X[1]\n",
    "\n",
    "# get a column\n",
    "print X[:, 1]"
   ]
  },
  {
   "cell_type": "code",
   "execution_count": 55,
   "metadata": {
    "collapsed": false
   },
   "outputs": [
    {
     "name": "stdout",
     "output_type": "stream",
     "text": [
      "[[ 0.46637225  0.25287213  0.54854288]\n",
      " [ 0.6892184   0.25427193  0.43474524]\n",
      " [ 0.90651659  0.10423979  0.5240193 ]\n",
      " [ 0.54420015  0.0978681   0.61673612]\n",
      " [ 0.73121548  0.88390065  0.16307901]]\n"
     ]
    }
   ],
   "source": [
    "# Transposing an array\n",
    "print X.T"
   ]
  },
  {
   "cell_type": "code",
   "execution_count": 56,
   "metadata": {
    "collapsed": false
   },
   "outputs": [
    {
     "name": "stdout",
     "output_type": "stream",
     "text": [
      "[  0.   3.   6.   9.  12.]\n",
      "[[  0.]\n",
      " [  3.]\n",
      " [  6.]\n",
      " [  9.]\n",
      " [ 12.]]\n"
     ]
    }
   ],
   "source": [
    "# Turning a row vector into a column vector\n",
    "y = np.linspace(0, 12, 5)\n",
    "print y\n",
    "\n",
    "# make into a column vector\n",
    "print y[:, np.newaxis]"
   ]
  },
  {
   "cell_type": "markdown",
   "metadata": {},
   "source": [
    "Matrix multiplication is quite often used in ML related tasks and **np.dot** is often used for this.  \n",
    "For *2-D arrays* it is equivalent to *matrix multiplication*, and for 1-D arrays to inner product of vectors (without complex conjugation, scalar product). For N dimensions it is a sum product over the last axis of a and the second-to-last of b.\n"
   ]
  },
  {
   "cell_type": "code",
   "execution_count": 57,
   "metadata": {
    "collapsed": false
   },
   "outputs": [
    {
     "data": {
      "text/plain": [
       "12"
      ]
     },
     "execution_count": 57,
     "metadata": {},
     "output_type": "execute_result"
    }
   ],
   "source": [
    "np.dot(3, 4)"
   ]
  },
  {
   "cell_type": "code",
   "execution_count": 58,
   "metadata": {
    "collapsed": false
   },
   "outputs": [
    {
     "data": {
      "text/plain": [
       "13"
      ]
     },
     "execution_count": 58,
     "metadata": {},
     "output_type": "execute_result"
    }
   ],
   "source": [
    "np.dot([2, 3], [2, 3])"
   ]
  },
  {
   "cell_type": "code",
   "execution_count": 59,
   "metadata": {
    "collapsed": false
   },
   "outputs": [
    {
     "data": {
      "text/plain": [
       "array([[4, 1],\n",
       "       [2, 2]])"
      ]
     },
     "execution_count": 59,
     "metadata": {},
     "output_type": "execute_result"
    }
   ],
   "source": [
    "# for 2-D arrays it’s the matrix product\n",
    "a = [[1, 0], [0, 1]]\n",
    "b = [[4, 1], [2, 2]]\n",
    "np.dot(a, b)"
   ]
  },
  {
   "cell_type": "code",
   "execution_count": 60,
   "metadata": {
    "collapsed": false
   },
   "outputs": [
    {
     "name": "stdout",
     "output_type": "stream",
     "text": [
      "b[0] = [1 2 3]\n",
      "b[0, 0]= 1\n",
      "first 'column': [1 4]\n",
      "Object `numpy.sum` not found.\n",
      "sum: 21  and axis0 sum:  [5 7 9]\n",
      "mean: 3.5  and axis1 mean [ 2.  5.]\n"
     ]
    }
   ],
   "source": [
    "## common array operations\n",
    "b = np.array([ [1,2,3], [4,5,6] ])\n",
    "print \"b[0] =\", b[0]\n",
    "print \"b[0, 0]=\", b[0, 0]\n",
    "print \"first 'column':\", b[:, 0]\n",
    "numpy.sum?\n",
    "\n",
    "print \"sum:\", b.sum(), \" and axis0 sum: \", b.sum(axis=0)\n",
    "print \"mean:\", b.mean(), \" and axis1 mean\", b.mean(axis=1)"
   ]
  },
  {
   "cell_type": "code",
   "execution_count": null,
   "metadata": {
    "collapsed": true
   },
   "outputs": [],
   "source": []
  },
  {
   "cell_type": "markdown",
   "metadata": {},
   "source": [
    "## Matplotlib\n",
    "Another important part of machine learning is visualization of data. The most common tool for this in Python is matplotlib. It is an extremely flexible package, but we will go over some basics here.\n",
    "\n",
    "First, something special to IPython notebook. We can turn on the \"IPython inline\" mode, which will make plots show up inline in the notebook."
   ]
  },
  {
   "cell_type": "code",
   "execution_count": 61,
   "metadata": {
    "collapsed": false
   },
   "outputs": [
    {
     "data": {
      "image/png": "[encoded data removed]",
      "text/plain": [
       "<matplotlib.figure.Figure at 0x3f92198>"
      ]
     },
     "metadata": {},
     "output_type": "display_data"
    }
   ],
   "source": [
    "%matplotlib inline\n",
    "import matplotlib.pyplot as plt\n",
    "import numpy as np\n",
    "\n",
    "# plotting a line using blue circle markers\n",
    "x = np.linspace(0, 10, 100)\n",
    "plt.plot(x, np.sin(x), 'bo');"
   ]
  },
  {
   "cell_type": "code",
   "execution_count": 62,
   "metadata": {
    "collapsed": false
   },
   "outputs": [
    {
     "data": {
      "image/png": "[encoded data removed]",
      "text/plain": [
       "<matplotlib.figure.Figure at 0x3f5ec88>"
      ]
     },
     "metadata": {},
     "output_type": "display_data"
    }
   ],
   "source": [
    "# scatter-plot points\n",
    "N = 50\n",
    "x = np.random.rand(N)\n",
    "y = np.random.rand(N)\n",
    "colors = np.random.rand(N)\n",
    "area = np.pi * (15 * np.random.rand(N))**2 # 0 to 15 point radiuses\n",
    "\n",
    "plt.scatter(x, y, s=area, c=colors, alpha=0.5)\n",
    "plt.show()\n"
   ]
  },
  {
   "cell_type": "code",
   "execution_count": 63,
   "metadata": {
    "collapsed": false
   },
   "outputs": [
    {
     "data": {
      "image/png": "[encoded data removed]",
      "text/plain": [
       "<matplotlib.figure.Figure at 0x3f920b8>"
      ]
     },
     "metadata": {},
     "output_type": "display_data"
    }
   ],
   "source": [
    "# histogram\n",
    "samples_1 = np.random.normal(loc=1, scale=.5, size=10000)\n",
    "samples_2 = np.random.standard_t(df=10, size=10000)\n",
    "\n",
    "bins = np.linspace(-3, 3, 50)\n",
    "_ = plt.hist(samples_1, bins=bins, alpha=0.5, label='samples 1')\n",
    "_ = plt.hist(samples_2, bins=bins, alpha=0.5, label='samples 2')\n",
    "plt.legend(loc='upper left');\n"
   ]
  },
  {
   "cell_type": "code",
   "execution_count": null,
   "metadata": {
    "collapsed": true
   },
   "outputs": [],
   "source": []
  },
  {
   "cell_type": "code",
   "execution_count": null,
   "metadata": {
    "collapsed": true
   },
   "outputs": [],
   "source": []
  },
  {
   "cell_type": "code",
   "execution_count": null,
   "metadata": {
    "collapsed": true
   },
   "outputs": [],
   "source": []
  }
 ],
 "metadata": {
  "celltoolbar": "Edit Metadata",
  "kernelspec": {
   "display_name": "Python 2",
   "language": "python",
   "name": "python2"
  },
  "language_info": {
   "codemirror_mode": {
    "name": "ipython",
    "version": 2
   },
   "file_extension": ".py",
   "mimetype": "text/x-python",
   "name": "python",
   "nbconvert_exporter": "python",
   "pygments_lexer": "ipython2",
   "version": "2.7.10"
  }
 },
 "nbformat": 4,
 "nbformat_minor": 0
}
