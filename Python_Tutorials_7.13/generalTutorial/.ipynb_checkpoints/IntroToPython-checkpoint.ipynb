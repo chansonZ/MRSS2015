{
 "cells": [
  {
   "cell_type": "markdown",
   "metadata": {},
   "source": [
    "# Introduction to Python\n",
    "\n",
    "This IPython notebook contains collection of samples to get you familiar with Python programming language and basic plotting."
   ]
  },
  {
   "cell_type": "code",
   "execution_count": 1,
   "metadata": {
    "collapsed": false
   },
   "outputs": [
    {
     "name": "stdout",
     "output_type": "stream",
     "text": [
      "Hello Python world!\n"
     ]
    }
   ],
   "source": [
    "print \"Hello Python world!\""
   ]
  },
  {
   "cell_type": "markdown",
   "metadata": {},
   "source": [
    "Python is simple to use, but it is a real programming language, offering much more structure and support for large programs than shell scripts or batch files can offer.Python is a *very-high-level language*, it has high-level data types built in, such as flexible arrays and dictionaries.  \n",
    "Python is an interpreted language, which can save you considerable time during program development because no compilation and linking is necessary. \n",
    "  \n",
    "Python enables programs to be written compactly and readably. Programs written in Python are typically much shorter than equivalent C, C++, or Java programs, for several reasons:\n",
    "* the high-level data types allow you to express complex operations in a single statement;\n",
    "* statement grouping is done by *indentation* instead of *beginning and ending brackets*;\n",
    "* no variable or argument declarations are necessary."
   ]
  },
  {
   "cell_type": "markdown",
   "metadata": {},
   "source": [
    "## Variables, Keywords and Strings\n",
    "\n",
    "**Variables** do not need explicit declaration or type definition. Just start use it and Python will interpret those dynamically."
   ]
  },
  {
   "cell_type": "code",
   "execution_count": 2,
   "metadata": {
    "collapsed": false
   },
   "outputs": [
    {
     "name": "stdout",
     "output_type": "stream",
     "text": [
      "5\n",
      "Now I'm a string\n"
     ]
    }
   ],
   "source": [
    "a = 5\n",
    "print a\n",
    "\n",
    "# now change type of variable a\n",
    "a = \"Now I'm a string\"\n",
    "print a"
   ]
  },
  {
   "cell_type": "markdown",
   "metadata": {},
   "source": [
    "Python has **keywords** that can not be used as variables (see full list [here](https://docs.python.org/2/reference/lexical_analysis.html#keywords)). Python is a dynamic language. It changes during time. The list of keywords may change in the future."
   ]
  },
  {
   "cell_type": "code",
   "execution_count": 3,
   "metadata": {
    "collapsed": false
   },
   "outputs": [
    {
     "name": "stdout",
     "output_type": "stream",
     "text": [
      "Python version:  sys.version_info(major=2, minor=7, micro=9, releaselevel='final', serial=0)\n",
      "Python keywords:  ['and', 'as', 'assert', 'break', 'class', 'continue', 'def', 'del', 'elif', 'else', 'except', 'exec', 'finally', 'for', 'from', 'global', 'if', 'import', 'in', 'is', 'lambda', 'not', 'or', 'pass', 'print', 'raise', 'return', 'try', 'while', 'with', 'yield']\n"
     ]
    }
   ],
   "source": [
    "import sys\n",
    "import keyword\n",
    "\n",
    "\n",
    "print \"Python version: \", sys.version_info\n",
    "print \"Python keywords: \", keyword.kwlist"
   ]
  },
  {
   "cell_type": "markdown",
   "metadata": {},
   "source": [
    "Let's take a look at several of keywords closer:"
   ]
  },
  {
   "cell_type": "code",
   "execution_count": 4,
   "metadata": {
    "collapsed": false
   },
   "outputs": [
    {
     "name": "stdout",
     "output_type": "stream",
     "text": [
      "************************\n"
     ]
    }
   ],
   "source": [
    "#The print keyword is use to print numbers and characters to the console. \n",
    "#In Python 3, print is not a keyword any more, it becomes a function.\n",
    "print \"*\" * 24"
   ]
  },
  {
   "cell_type": "code",
   "execution_count": 5,
   "metadata": {
    "collapsed": false
   },
   "outputs": [
    {
     "name": "stdout",
     "output_type": "stream",
     "text": [
      "True\n",
      "False\n"
     ]
    }
   ],
   "source": [
    "# for boolean operations use 'or' and 'and' instead of ||, &&\n",
    "true_var = True\n",
    "false_var = False\n",
    "print true_var or false_var\n",
    "print true_var and false_var"
   ]
  },
  {
   "cell_type": "code",
   "execution_count": 6,
   "metadata": {
    "collapsed": false
   },
   "outputs": [
    {
     "name": "stdout",
     "output_type": "stream",
     "text": [
      "4 225\n"
     ]
    }
   ],
   "source": [
    "# The def keyword is used to create a new user defined function\n",
    "def root(x):\n",
    "   return x * x\n",
    "a = root(2)\n",
    "b = root(15)\n",
    "print a, b"
   ]
  },
  {
   "cell_type": "code",
   "execution_count": 7,
   "metadata": {
    "collapsed": false
   },
   "outputs": [
    {
     "name": "stdout",
     "output_type": "stream",
     "text": [
      "1 4 9 16 25\n"
     ]
    }
   ],
   "source": [
    "#The lambda keyword creates a new anonymous function. \n",
    "# An anonymous function is a function, which is not bound to a specific name. It is also called an inline function.\n",
    "for i in (1, 2, 3, 4, 5):\n",
    "   a =  lambda x: x * x\n",
    "   print a(i),"
   ]
  },
  {
   "cell_type": "code",
   "execution_count": 8,
   "metadata": {
    "collapsed": false
   },
   "outputs": [
    {
     "ename": "AssertionError",
     "evalue": "",
     "output_type": "error",
     "traceback": [
      "\u001b[1;31m---------------------------------------------------------------------------\u001b[0m",
      "\u001b[1;31mAssertionError\u001b[0m                            Traceback (most recent call last)",
      "\u001b[1;32m<ipython-input-8-3fb7d30f3359>\u001b[0m in \u001b[0;36m<module>\u001b[1;34m()\u001b[0m\n\u001b[0;32m      3\u001b[0m \u001b[0msalary\u001b[0m \u001b[1;33m-=\u001b[0m \u001b[1;36m3560\u001b[0m \u001b[1;31m# a mistake was done\u001b[0m\u001b[1;33m\u001b[0m\u001b[0m\n\u001b[0;32m      4\u001b[0m \u001b[1;33m\u001b[0m\u001b[0m\n\u001b[1;32m----> 5\u001b[1;33m \u001b[1;32massert\u001b[0m \u001b[0msalary\u001b[0m \u001b[1;33m>\u001b[0m \u001b[1;36m0\u001b[0m\u001b[1;33m\u001b[0m\u001b[0m\n\u001b[0m",
      "\u001b[1;31mAssertionError\u001b[0m: "
     ]
    }
   ],
   "source": [
    "# The assert keyword is used for debugging purposes. \n",
    "salary = 3500\n",
    "salary -= 3560 # a mistake was done\n",
    "\n",
    "# assert salary > 0"
   ]
  },
  {
   "cell_type": "code",
   "execution_count": null,
   "metadata": {
    "collapsed": false
   },
   "outputs": [],
   "source": [
    "#try-catch is supported\n",
    "try:\n",
    "   fh = open(\"testfile\", \"r\")\n",
    "   fh.write(\"This is my test file for exception handling!!\")\n",
    "except IOError:\n",
    "   print \"Error: can\\'t find file or read data\"\n",
    "else:\n",
    "   print \"Written content in the file successfully\"\n",
    "   fh.close()"
   ]
  },
  {
   "cell_type": "markdown",
   "metadata": {},
   "source": [
    "**Strings** can be indexed (subscripted), with the first character having index 0. Indices may also be negative numbers (starting from -1), to start counting from the right."
   ]
  },
  {
   "cell_type": "code",
   "execution_count": null,
   "metadata": {
    "collapsed": false
   },
   "outputs": [],
   "source": [
    "word = \"Python\"\n",
    "print \"First character: \" + word[0]\n",
    "print \"Last character: \" + word[5]\n",
    "\n",
    "# now let's use negative indexes\n",
    "print \"Last character with -1 index: \" + word[-1]\n",
    "print \"Second-last character: \" + word[-2]"
   ]
  },
  {
   "cell_type": "markdown",
   "metadata": {},
   "source": [
    "In addition to indexing, **slicing** is also supported. While indexing is used to obtain individual characters, slicing allows you to obtain a substring. Note that the start is always included, and the end always excluded. This makes sure that s[:i] + s[i:] is always equal to s:"
   ]
  },
  {
   "cell_type": "code",
   "execution_count": null,
   "metadata": {
    "collapsed": false
   },
   "outputs": [],
   "source": [
    "print \"Characters from position 0 (included) to 2 (excluded): \" + word[0:2]\n",
    "print \"s[:i] + s[i:] is always equal to s: \" + word[:2] + word[2:] "
   ]
  },
  {
   "cell_type": "markdown",
   "metadata": {},
   "source": [
    "## Lists and Tuples\n",
    "In Python, square brackets designate a **list**. See below samples of list usage."
   ]
  },
  {
   "cell_type": "code",
   "execution_count": null,
   "metadata": {
    "collapsed": false
   },
   "outputs": [],
   "source": [
    "dogs = ['border collie', 'australian cattle dog', 'labrador retriever', 'german shepherd']\n",
    "\n",
    "# sort\n",
    "dogs.sort()\n",
    "\n",
    "# loop through the list\n",
    "for dog in dogs:\n",
    "    print('I like ' + dog + 's.')\n",
    "    \n",
    "# find element\n",
    "print dogs.index('border collie')\n",
    "\n",
    "# print \"Note: This method returns a ValueError if the requested item is not in the list: \" dogs.index('poodle')"
   ]
  },
  {
   "cell_type": "code",
   "execution_count": null,
   "metadata": {
    "collapsed": false
   },
   "outputs": [],
   "source": [
    "\n",
    "# append\n",
    "dogs.append(\"poodle\");\n",
    "\n",
    "# insert\n",
    "dogs.insert(3, \"boxer\")\n",
    "\n",
    "# join 2 lists\n",
    "hunting_dogs = ['hound', 'setter', 'pointer']\n",
    "dogs += hunting_dogs\n",
    "\n",
    "# length of list\n",
    "print \"current list length is: \", len(dogs)\n",
    "\n",
    "print \"After we added: \",dogs"
   ]
  },
  {
   "cell_type": "code",
   "execution_count": null,
   "metadata": {
    "collapsed": false
   },
   "outputs": [],
   "source": [
    "# slicing\n",
    "first_batch = dogs[0:2]\n",
    "for dog in first_batch:\n",
    "    print('I like ' + dog + 's the most.')"
   ]
  },
  {
   "cell_type": "code",
   "execution_count": null,
   "metadata": {
    "collapsed": false
   },
   "outputs": [],
   "source": [
    "   \n",
    "# removing by position and by value\n",
    "print \"before deletion:\", dogs\n",
    "del dogs[3]\n",
    "print dogs\n",
    "dogs.remove('australian cattle dog')\n",
    "print dogs"
   ]
  },
  {
   "cell_type": "markdown",
   "metadata": {},
   "source": [
    "Lists are a workhorse data type in Python, and many programs manipulate a list at some point. Two common operations on lists are to loop over them, and either pick out the elements that meet a certain criterion, or apply some function to each element.**List comprehensions** make this workflow cleaner."
   ]
  },
  {
   "cell_type": "code",
   "execution_count": null,
   "metadata": {
    "collapsed": false
   },
   "outputs": [],
   "source": [
    "# Store the first ten square numbers in a list.\n",
    "squares = [number**2 for number in range(1,11)]\n",
    "# Show that our list is correct.\n",
    "for square in squares:\n",
    "    print(square)\n",
    "    \n",
    "# We can use comprehensions with non-numerical lists as well.\n",
    "# Consider some students.\n",
    "students = ['bernice', 'aaron', 'cody']\n",
    "# Let's turn them into great students.\n",
    "great_students = [student.title() + \" the great!\" for student in students]\n",
    "# Let's greet each great student.\n",
    "for great_student in great_students:\n",
    "    print(\"Hello, \" + great_student)"
   ]
  },
  {
   "cell_type": "markdown",
   "metadata": {
    "collapsed": true
   },
   "source": [
    "You define a **tuple** just like you define a list, except you use parentheses instead of square brackets. Once you have a tuple, you can access individual elements just like you can with a list, and you can loop through the tuple with a for loop. You can not add or remove items from the tuple."
   ]
  },
  {
   "cell_type": "code",
   "execution_count": null,
   "metadata": {
    "collapsed": false
   },
   "outputs": [],
   "source": [
    "colors = ('red', 'green', 'blue')\n",
    "print(\"The first color is: \" + colors[0])\n",
    "# colors.append('purple')"
   ]
  },
  {
   "cell_type": "markdown",
   "metadata": {},
   "source": [
    "## Functions\n",
    "Here is example code of a function definition:"
   ]
  },
  {
   "cell_type": "code",
   "execution_count": null,
   "metadata": {
    "collapsed": false
   },
   "outputs": [],
   "source": [
    "def thank_you(name='everyone'):\n",
    "    # This function prints a two-line personalized thank you message.\n",
    "    #  If no name is passed in, it prints a general thank you message\n",
    "    #  to everyone.\n",
    "    print(\"\\nYou are doing good work, %s!\" % name)\n",
    "    print(\"Thank you very much for your efforts on this project.\")\n",
    "    \n",
    "thank_you('Adriana')\n",
    "thank_you()"
   ]
  },
  {
   "cell_type": "markdown",
   "metadata": {},
   "source": [
    "Python allows us to use a syntax called **keyword arguments**. In this case, we can give the arguments in any order when we call the function, as long as we use the name of the arguments in our calling statement."
   ]
  },
  {
   "cell_type": "code",
   "execution_count": null,
   "metadata": {
    "collapsed": false
   },
   "outputs": [],
   "source": [
    "def describe_person(first_name, last_name, age=None, favorite_language=None, died=None):\n",
    "    # This function takes in a person's first and last name,\n",
    "    #  their age, and their favourite language.\n",
    "    # It then prints this information out in a simple format.\n",
    "    \n",
    "    # Required information:\n",
    "    print(\"First name: %s\" % first_name.title())\n",
    "    print(\"Last name: %s\" % last_name.title())\n",
    "    \n",
    "    # Optional information:\n",
    "    if age:\n",
    "        print(\"Age: %d\" % age)\n",
    "    if favorite_language:\n",
    "        print(\"Favourite language: %s\" % favorite_language)\n",
    "    if died:\n",
    "        print(\"Died: %d\" % died)\n",
    "    \n",
    "    # Blank line at end.\n",
    "    print(\"\\n\")\n",
    "\n",
    "describe_person('brian', 'kernighan', favorite_language='C')\n",
    "describe_person('dennis', 'ritchie', favorite_language='C', died=2011)"
   ]
  },
  {
   "cell_type": "markdown",
   "metadata": {},
   "source": [
    "Python gives us a syntax for letting a function accept an **arbitrary number of arguments**. If we place an argument at the end of the list of arguments, with an asterisk in front of it, that argument will collect any remaining values from the calling statement into a tuple:"
   ]
  },
  {
   "cell_type": "code",
   "execution_count": null,
   "metadata": {
    "collapsed": false
   },
   "outputs": [],
   "source": [
    "def example_function(arg_1, arg_2, *arg_3):\n",
    "    # Let's look at the argument values.\n",
    "    print \"\\narg_1:\", arg_1\n",
    "    print \"arg_2:\", arg_2\n",
    "    print \"arg_3:\", arg_3\n",
    "    \n",
    "example_function(1, 2)\n",
    "example_function(1, 2, 3)\n",
    "example_function(1, 2, 3, 4, 5)"
   ]
  },
  {
   "cell_type": "markdown",
   "metadata": {},
   "source": [
    "## Dictionaries\n",
    "A general dictionary in Python looks something like this:  \n",
    "    *dictionary_name = {key_1: value_1, key_2: value_2, key_3: value_3}*"
   ]
  },
  {
   "cell_type": "code",
   "execution_count": null,
   "metadata": {
    "collapsed": false
   },
   "outputs": [],
   "source": [
    "# stores people's favourite numbers, and displays them.\n",
    "favorite_numbers = {'eric': [3, 11, 19, 23, 42],\n",
    "                    'ever': [2, 4, 5],\n",
    "                    'willie': [5, 35, 120],\n",
    "                    }\n",
    "\n",
    "# display each person's favourite numbers.\n",
    "print(\"Eric's favourite numbers are:\")\n",
    "print(favorite_numbers['eric'])\n",
    "\n",
    "# loop through values\n",
    "for value in favorite_numbers.values():\n",
    "    print('Value: %s' % value)\n",
    "\n",
    "# delete entry\n",
    "del favorite_numbers[\"eric\"]\n",
    "print favorite_numbers\n"
   ]
  },
  {
   "cell_type": "markdown",
   "metadata": {},
   "source": [
    "## Classes\n",
    "When you write a class in Python 2.7, you should always include the word object in parentheses when you define the class. This makes sure your Python 2.7 classes act like Python 3 classes, which will be helpful as your projects grow more complicated."
   ]
  },
  {
   "cell_type": "code",
   "execution_count": null,
   "metadata": {
    "collapsed": false
   },
   "outputs": [],
   "source": [
    "class Rocket(object):\n",
    "    # Rocket simulates a rocket ship for a game,\n",
    "    #  or a physics simulation.\n",
    "    \n",
    "    def __init__(self):\n",
    "        # Each rocket has an (x,y) position.\n",
    "        self.x = 0\n",
    "        self.y = 0\n",
    "        \n",
    "    def move_up(self):\n",
    "        # Increment the y-position of the rocket.\n",
    "        self.y += 1            \n",
    "        \n",
    "# Create a Rocket object.\n",
    "my_rocket = Rocket()\n",
    "print my_rocket.x, my_rocket.y\n",
    "my_rocket.move_up()\n",
    "print my_rocket.x, my_rocket.y\n",
    "\n",
    "# Create a fleet of 5 rockets, and store them in a list.\n",
    "my_rockets = [Rocket() for x in range(0,5)]\n",
    "# Show that each rocket is a separate object.\n",
    "for rocket in my_rockets:\n",
    "    print rocket"
   ]
  },
  {
   "cell_type": "markdown",
   "metadata": {},
   "source": [
    "In Python and any other language that supports OOP, one class can inherit from another class:"
   ]
  },
  {
   "cell_type": "code",
   "execution_count": null,
   "metadata": {
    "collapsed": false
   },
   "outputs": [],
   "source": [
    "class Shuttle(Rocket):\n",
    "    # Shuttle simulates a space shuttle, which is really\n",
    "    #  just a reusable rocket.\n",
    "    \n",
    "    def __init__(self, flights_completed=0):\n",
    "        super(Shuttle, self).__init__()\n",
    "        self.flights_completed = flights_completed\n",
    "        \n",
    "shuttle = Shuttle(3)\n",
    "print shuttle.x, shuttle.y, shuttle.flights_completed"
   ]
  },
  {
   "cell_type": "markdown",
   "metadata": {},
   "source": [
    "## NumPy Arrays\n",
    "NumPy is the fundamental package for scientific computing with Python. Its powerful N-dimensional array object  is used quite a bit in Machine Learning, so let's take close look at this NumPy part.  \n",
    "First let's check that NumPy is installed:"
   ]
  },
  {
   "cell_type": "code",
   "execution_count": null,
   "metadata": {
    "collapsed": false
   },
   "outputs": [],
   "source": [
    "import numpy as np\n",
    "print 'numpy:', numpy.__version__"
   ]
  },
  {
   "cell_type": "markdown",
   "metadata": {},
   "source": [
    "NumPy's main object is the homogeneous multidimensional array (called **ndarray**). It is a table of elements (usually numbers), all of the same type, indexed by a tuple of positive integers. In Numpy dimensions are called axes. The number of axes is rank.\n",
    "For example, the coordinates of a point in 3D space [1, 2, 1] is an array of rank 1, because it has one axis. That axis has a length of 3.  \n",
    "In example below, the array has rank 2 (it is 2-dimensional). The first dimension (axis) has a length of 2, the second dimension has a length of 3.  "
   ]
  },
  {
   "cell_type": "code",
   "execution_count": null,
   "metadata": {
    "collapsed": false
   },
   "outputs": [],
   "source": [
    "b = np.array([ [1.5,2,3], [4,5,6] ])\n",
    "print b"
   ]
  },
  {
   "cell_type": "markdown",
   "metadata": {},
   "source": [
    "There are several important differences between NumPy arrays and the standard Python sequences:  \n",
    "*  NumPy arrays have a fixed size at creation, unlike Python lists (which can grow dynamically). Changing the size of an ndarray will create a new array and delete the original.\n",
    "*  The elements in a NumPy array are all required to be of the same data type, and thus will be the same size in memory. The exception: one can have arrays of (Python, including NumPy) objects, thereby allowing for arrays of different sized elements.\n",
    "*  NumPy arrays *facilitate advanced mathematical and other types of operations on large numbers of data*. Typically, such operations are executed more efficiently and with less code than is possible using Python’s built-in sequences.\n",
    "*  A growing plethora of scientific and mathematical Python-based packages are using NumPy arrays; though these typically support Python-sequence input, they convert such input to NumPy arrays prior to processing, and they often output NumPy arrays. In other words, in order to efficiently use much (perhaps even most) of today’s scientific/mathematical Python-based software, just knowing how to use Python’s built-in sequence types is insufficient - one also needs to know how to use NumPy arrays."
   ]
  },
  {
   "cell_type": "code",
   "execution_count": null,
   "metadata": {
    "collapsed": false
   },
   "outputs": [],
   "source": [
    "# make sure you have imported NumPy, if not -- uncomment line below\n",
    "# import numpy as np\n",
    "\n",
    "# Generating a random array\n",
    "X = np.random.random((3, 5))  # a 3 x 5 array\n",
    "print X\n",
    "\n",
    "# get dimension and size info\n",
    "print \"dimensions:\", X.shape\n",
    "print \"number of axes (dimensions):\", X.ndim\n",
    "print \"total number of elements:\", X.size\n",
    "print \"type of elements: \", X.dtype"
   ]
  },
  {
   "cell_type": "code",
   "execution_count": null,
   "metadata": {
    "collapsed": true
   },
   "outputs": [],
   "source": [
    "print \"dimensions:\", X.shape"
   ]
  },
  {
   "cell_type": "code",
   "execution_count": null,
   "metadata": {
    "collapsed": false
   },
   "outputs": [],
   "source": [
    "# Accessing elements\n",
    "\n",
    "# get a single element\n",
    "print X[0, 0]\n",
    "\n",
    "# get a row\n",
    "print X[1]\n",
    "\n",
    "# get a column\n",
    "print X[:, 1]"
   ]
  },
  {
   "cell_type": "code",
   "execution_count": null,
   "metadata": {
    "collapsed": false
   },
   "outputs": [],
   "source": [
    "# Transposing an array\n",
    "print X.T"
   ]
  },
  {
   "cell_type": "code",
   "execution_count": null,
   "metadata": {
    "collapsed": false
   },
   "outputs": [],
   "source": [
    "# Turning a row vector into a column vector\n",
    "y = np.linspace(0, 12, 5)\n",
    "print y\n",
    "\n",
    "# make into a column vector\n",
    "print y[:, np.newaxis]"
   ]
  },
  {
   "cell_type": "markdown",
   "metadata": {},
   "source": [
    "Matrix multiplication is quite often used in ML related tasks and **np.dot** is often used for this.  \n",
    "For *2-D arrays* it is equivalent to *matrix multiplication*, and for 1-D arrays to inner product of vectors (without complex conjugation, scalar product). For N dimensions it is a sum product over the last axis of a and the second-to-last of b.\n"
   ]
  },
  {
   "cell_type": "code",
   "execution_count": null,
   "metadata": {
    "collapsed": false
   },
   "outputs": [],
   "source": [
    "np.dot(3, 4)"
   ]
  },
  {
   "cell_type": "code",
   "execution_count": null,
   "metadata": {
    "collapsed": false
   },
   "outputs": [],
   "source": [
    "np.dot([2, 3], [2, 3])"
   ]
  },
  {
   "cell_type": "code",
   "execution_count": null,
   "metadata": {
    "collapsed": false
   },
   "outputs": [],
   "source": [
    "# for 2-D arrays it’s the matrix product\n",
    "a = [[1, 0], [0, 1]]\n",
    "b = [[4, 1], [2, 2]]\n",
    "np.dot(a, b)"
   ]
  },
  {
   "cell_type": "code",
   "execution_count": null,
   "metadata": {
    "collapsed": false
   },
   "outputs": [],
   "source": [
    "## common array operations\n",
    "b = np.array([ [1,2,3], [4,5,6] ])\n",
    "print \"b[0] =\", b[0]\n",
    "print \"b[0, 0]=\", b[0, 0]\n",
    "print \"first 'column':\", b[:, 0]\n",
    "numpy.sum?\n",
    "\n",
    "print \"sum:\", b.sum(), \" and axis0 sum: \", b.sum(axis=0)\n",
    "print \"mean:\", b.mean(), \" and axis1 mean\", b.mean(axis=1)"
   ]
  },
  {
   "cell_type": "code",
   "execution_count": null,
   "metadata": {
    "collapsed": true
   },
   "outputs": [],
   "source": []
  },
  {
   "cell_type": "markdown",
   "metadata": {},
   "source": [
    "## Matplotlib\n",
    "Another important part of machine learning is visualization of data. The most common tool for this in Python is matplotlib. It is an extremely flexible package, but we will go over some basics here.\n",
    "\n",
    "First, something special to IPython notebook. We can turn on the \"IPython inline\" mode, which will make plots show up inline in the notebook."
   ]
  },
  {
   "cell_type": "code",
   "execution_count": null,
   "metadata": {
    "collapsed": false
   },
   "outputs": [],
   "source": [
    "%matplotlib inline\n",
    "import matplotlib.pyplot as plt\n",
    "import numpy as np\n",
    "\n",
    "# plotting a line using blue circle markers\n",
    "x = np.linspace(0, 10, 100)\n",
    "plt.plot(x, np.sin(x), 'bo');"
   ]
  },
  {
   "cell_type": "code",
   "execution_count": null,
   "metadata": {
    "collapsed": false
   },
   "outputs": [],
   "source": [
    "# scatter-plot points\n",
    "N = 50\n",
    "x = np.random.rand(N)\n",
    "y = np.random.rand(N)\n",
    "colors = np.random.rand(N)\n",
    "area = np.pi * (15 * np.random.rand(N))**2 # 0 to 15 point radiuses\n",
    "\n",
    "plt.scatter(x, y, s=area, c=colors, alpha=0.5)\n",
    "plt.show()\n"
   ]
  },
  {
   "cell_type": "code",
   "execution_count": null,
   "metadata": {
    "collapsed": false
   },
   "outputs": [],
   "source": [
    "# histogram\n",
    "samples_1 = np.random.normal(loc=1, scale=.5, size=10000)\n",
    "samples_2 = np.random.standard_t(df=10, size=10000)\n",
    "\n",
    "bins = np.linspace(-3, 3, 50)\n",
    "_ = plt.hist(samples_1, bins=bins, alpha=0.5, label='samples 1')\n",
    "_ = plt.hist(samples_2, bins=bins, alpha=0.5, label='samples 2')\n",
    "plt.legend(loc='upper left');\n"
   ]
  },
  {
   "cell_type": "code",
   "execution_count": null,
   "metadata": {
    "collapsed": true
   },
   "outputs": [],
   "source": []
  },
  {
   "cell_type": "code",
   "execution_count": null,
   "metadata": {
    "collapsed": true
   },
   "outputs": [],
   "source": []
  },
  {
   "cell_type": "code",
   "execution_count": null,
   "metadata": {
    "collapsed": true
   },
   "outputs": [],
   "source": []
  }
 ],
 "metadata": {
  "celltoolbar": "Edit Metadata",
  "kernelspec": {
   "display_name": "Python 2",
   "language": "python",
   "name": "python2"
  },
  "language_info": {
   "codemirror_mode": {
    "name": "ipython",
    "version": 2
   },
   "file_extension": ".py",
   "mimetype": "text/x-python",
   "name": "python",
   "nbconvert_exporter": "python",
   "pygments_lexer": "ipython2",
   "version": "2.7.9"
  }
 },
 "nbformat": 4,
 "nbformat_minor": 0
}
